{
 "cells": [
  {
   "cell_type": "code",
   "execution_count": 1,
   "metadata": {
    "colab": {
     "base_uri": "https://localhost:8080/"
    },
    "id": "JRypjJ_arYE1",
    "outputId": "082b82e7-032b-4455-8499-b11b232d257c"
   },
   "outputs": [
    {
     "name": "stdout",
     "output_type": "stream",
     "text": [
      "Requirement already satisfied: discopula in /opt/anaconda3/envs/discopula/lib/python3.13/site-packages (0.4.2)\n",
      "Requirement already satisfied: numpy in /opt/anaconda3/envs/discopula/lib/python3.13/site-packages (from discopula) (2.1.3)\n",
      "Requirement already satisfied: scipy in /opt/anaconda3/envs/discopula/lib/python3.13/site-packages (from discopula) (1.14.1)\n",
      "Requirement already satisfied: matplotlib in /opt/anaconda3/envs/discopula/lib/python3.13/site-packages (from discopula) (3.10.0)\n",
      "Requirement already satisfied: contourpy>=1.0.1 in /opt/anaconda3/envs/discopula/lib/python3.13/site-packages (from matplotlib->discopula) (1.3.1)\n",
      "Requirement already satisfied: cycler>=0.10 in /opt/anaconda3/envs/discopula/lib/python3.13/site-packages (from matplotlib->discopula) (0.12.1)\n",
      "Requirement already satisfied: fonttools>=4.22.0 in /opt/anaconda3/envs/discopula/lib/python3.13/site-packages (from matplotlib->discopula) (4.55.3)\n",
      "Requirement already satisfied: kiwisolver>=1.3.1 in /opt/anaconda3/envs/discopula/lib/python3.13/site-packages (from matplotlib->discopula) (1.4.8)\n",
      "Requirement already satisfied: packaging>=20.0 in /opt/anaconda3/envs/discopula/lib/python3.13/site-packages (from matplotlib->discopula) (24.2)\n",
      "Requirement already satisfied: pillow>=8 in /opt/anaconda3/envs/discopula/lib/python3.13/site-packages (from matplotlib->discopula) (11.0.0)\n",
      "Requirement already satisfied: pyparsing>=2.3.1 in /opt/anaconda3/envs/discopula/lib/python3.13/site-packages (from matplotlib->discopula) (3.2.0)\n",
      "Requirement already satisfied: python-dateutil>=2.7 in /opt/anaconda3/envs/discopula/lib/python3.13/site-packages (from matplotlib->discopula) (2.9.0.post0)\n",
      "Requirement already satisfied: six>=1.5 in /opt/anaconda3/envs/discopula/lib/python3.13/site-packages (from python-dateutil>=2.7->matplotlib->discopula) (1.17.0)\n",
      "\n",
      "\u001b[1m[\u001b[0m\u001b[34;49mnotice\u001b[0m\u001b[1;39;49m]\u001b[0m\u001b[39;49m A new release of pip is available: \u001b[0m\u001b[31;49m24.3.1\u001b[0m\u001b[39;49m -> \u001b[0m\u001b[32;49m25.0\u001b[0m\n",
      "\u001b[1m[\u001b[0m\u001b[34;49mnotice\u001b[0m\u001b[1;39;49m]\u001b[0m\u001b[39;49m To update, run: \u001b[0m\u001b[32;49mpip install --upgrade pip\u001b[0m\n",
      "Note: you may need to restart the kernel to use updated packages.\n"
     ]
    }
   ],
   "source": [
    "%pip install discopula"
   ]
  },
  {
   "cell_type": "markdown",
   "metadata": {
    "id": "60XA0DH1rxLE"
   },
   "source": [
    "> Make sure to have discopula's latest version installed using `pip`. More information about the latest version can be found at https://pypi.org/project/discopula/"
   ]
  },
  {
   "cell_type": "markdown",
   "metadata": {},
   "source": [
    "Run the following upgrade commands on your terminal if you are facing issues related to `pip` or `scipy`\n",
    "\n",
    "```\n",
    "# pip install --upgrade pip\n",
    "# pip install --upgrade scipy\n",
    "```"
   ]
  },
  {
   "cell_type": "code",
   "execution_count": 2,
   "metadata": {
    "id": "m83NAn8msA3i"
   },
   "outputs": [],
   "source": [
    "import numpy as np\n",
    "from discopula import GenericCheckerboardCopula"
   ]
  },
  {
   "cell_type": "markdown",
   "metadata": {},
   "source": [
    "# 2-Dimensional Case "
   ]
  },
  {
   "cell_type": "markdown",
   "metadata": {
    "id": "MN4xT6NCtGX7"
   },
   "source": [
    "### Create Sample Contingency Table and Initialize the GenericCheckerboardCopula"
   ]
  },
  {
   "cell_type": "markdown",
   "metadata": {},
   "source": [
    "In the case of initialization of a `GenericCheckerboardCopula` object with a contingency table (`np.array(np.array(...))`), the axis indexing defaults to the outermost starting with 0. In this case of a 2D contingency table, `axis = 0` has 5 categories and `axis = 1` has 3 categories. According to the JMA2021 paper, we have $X_1$ at `axis = 0` and $X_2$ at `axis = 1`."
   ]
  },
  {
   "cell_type": "code",
   "execution_count": 3,
   "metadata": {
    "colab": {
     "base_uri": "https://localhost:8080/"
    },
    "id": "01yuLPR8tRy3",
    "outputId": "e90fd3a8-f27f-4787-e680-e2df60456c5c"
   },
   "outputs": [
    {
     "name": "stdout",
     "output_type": "stream",
     "text": [
      "Shape of the inferred joint probability matrix P: (5, 3)\n",
      "Probability matrix P:\n",
      "[[0.    0.    0.25 ]\n",
      " [0.    0.125 0.   ]\n",
      " [0.25  0.    0.   ]\n",
      " [0.    0.125 0.   ]\n",
      " [0.    0.    0.25 ]]\n"
     ]
    }
   ],
   "source": [
    "\n",
    "contingency_table = np.array([\n",
    "    [0, 0, 20],\n",
    "    [0, 10, 0],\n",
    "    [20, 0, 0],\n",
    "    [0, 10, 0],\n",
    "    [0, 0, 20]\n",
    "])\n",
    "copula = GenericCheckerboardCopula.from_contingency_table(contingency_table)\n",
    "print(f\"Shape of the inferred joint probability matrix P: {copula.P.shape}\")\n",
    "print(f\"Probability matrix P:\\n{copula.P}\")"
   ]
  },
  {
   "cell_type": "markdown",
   "metadata": {
    "id": "W3a_y_pJt5te"
   },
   "source": [
    "### Calculating CCRAM & SCCRAM (non-vectorized)"
   ]
  },
  {
   "cell_type": "code",
   "execution_count": 4,
   "metadata": {
    "colab": {
     "base_uri": "https://localhost:8080/"
    },
    "id": "c_sywsi-uEsR",
    "outputId": "5c14de61-672e-40b9-d888-4b54e7604f11"
   },
   "outputs": [
    {
     "name": "stdout",
     "output_type": "stream",
     "text": [
      "CCRAM X1 to X2: 0.8438\n",
      "CCRAM X2 to X1: 0.0000\n",
      "SCCRAM X1 to X2: 1.0000\n",
      "SCCRAM X2 to X1: 0.0000\n"
     ]
    }
   ],
   "source": [
    "ccram_X1_to_X2 = copula.calculate_CCRAM(from_axes=[0], to_axis=1)\n",
    "ccram_X2_to_X1 = copula.calculate_CCRAM(from_axes=[1], to_axis=0)\n",
    "print(f\"CCRAM X1 to X2: {ccram_X1_to_X2:.4f}\")\n",
    "print(f\"CCRAM X2 to X1: {ccram_X2_to_X1:.4f}\")\n",
    "\n",
    "sccram_X1_to_X2 = copula.calculate_CCRAM(from_axes=[0], to_axis=1, scaled=True)\n",
    "sccram_X2_to_X1 = copula.calculate_CCRAM(from_axes=[1], to_axis=0, scaled=True)\n",
    "print(f\"SCCRAM X1 to X2: {sccram_X1_to_X2:.4f}\")\n",
    "print(f\"SCCRAM X2 to X1: {sccram_X2_to_X1:.4f}\")"
   ]
  },
  {
   "cell_type": "markdown",
   "metadata": {
    "id": "qP0O6kaEvqye"
   },
   "source": [
    "### Getting Category Predictions"
   ]
  },
  {
   "cell_type": "code",
   "execution_count": 5,
   "metadata": {
    "colab": {
     "base_uri": "https://localhost:8080/"
    },
    "id": "wDI1ud2hv-d7",
    "outputId": "6bab13ec-37d6-4268-f038-59890b9eb332"
   },
   "outputs": [
    {
     "name": "stdout",
     "output_type": "stream",
     "text": [
      "\n",
      "Predictions from X1 to X2:\n",
      "   X0 Category  Predicted X1 Category\n",
      "0            1                      3\n",
      "1            2                      2\n",
      "2            3                      1\n",
      "3            4                      2\n",
      "4            5                      3\n",
      "\n",
      "Predictions from axis 1 to axis 0:\n",
      "   Education Level Category  Predicted Income Bracket Category\n",
      "0                         1                                  3\n",
      "1                         2                                  3\n",
      "2                         3                                  3\n"
     ]
    }
   ],
   "source": [
    "predictions_X1_to_X2 = copula.get_category_predictions_multi(from_axes=[0], to_axis=1)\n",
    "print(\"\\nPredictions from X1 to X2:\")\n",
    "print(predictions_X1_to_X2)\n",
    "\n",
    "axis_to_name_dict = {0: \"Income Bracket\", 1: \"Education Level\"}\n",
    "predictions_1_to_0 = copula.get_category_predictions_multi(from_axes=[1], to_axis=0, axis_names=axis_to_name_dict)\n",
    "print(\"\\nPredictions from axis 1 to axis 0:\")\n",
    "print(predictions_1_to_0)"
   ]
  },
  {
   "cell_type": "markdown",
   "metadata": {},
   "source": [
    "### Calculating Scores and their Variances"
   ]
  },
  {
   "cell_type": "code",
   "execution_count": 21,
   "metadata": {},
   "outputs": [
    {
     "name": "stdout",
     "output_type": "stream",
     "text": [
      "Scores for axis 0:\n",
      "[np.float64(0.125), np.float64(0.3125), np.float64(0.5), np.float64(0.6875), np.float64(0.875)]\n",
      "\n",
      "Scores for axis 1:\n",
      "[np.float64(0.125), np.float64(0.375), np.float64(0.75)]\n",
      "\n",
      "Variance of scores for axis 0: 0.0791015625\n",
      "Variance of scores for axis 1: 0.0703125\n"
     ]
    }
   ],
   "source": [
    "# Calculate and display scores for both axes\n",
    "scores_axis0 = copula.calculate_scores(axis=0)\n",
    "scores_axis1 = copula.calculate_scores(axis=1)\n",
    "\n",
    "print(\"Scores for axis 0:\")\n",
    "print(scores_axis0)\n",
    "# Expected: [0.125, 0.3125, 0.5, 0.6875, 0.875]\n",
    "\n",
    "print(\"\\nScores for axis 1:\")\n",
    "print(scores_axis1)\n",
    "# Expected: [0.125, 0.375, 0.75]\n",
    "\n",
    "# Calculate and display variance of scores\n",
    "variance_axis0 = copula.calculate_variance_S(axis=0)\n",
    "variance_axis1 = copula.calculate_variance_S(axis=1)\n",
    "\n",
    "print(\"\\nVariance of scores for axis 0:\", variance_axis0)\n",
    "# Expected: 81/1024 = 0.0791015625\n",
    "print(\"Variance of scores for axis 1:\", variance_axis1)\n",
    "# Expected: 9/128 = 0.0703125 "
   ]
  },
  {
   "cell_type": "markdown",
   "metadata": {},
   "source": [
    "# 4-Dimensional Case (Real Data Analysis from JMA2021)"
   ]
  },
  {
   "cell_type": "markdown",
   "metadata": {},
   "source": [
    "### Create Sample Data in Cases Form and Initialize the GenericCheckerboardCopula"
   ]
  },
  {
   "cell_type": "markdown",
   "metadata": {},
   "source": [
    "In the case of initialization of a `GenericCheckerboardCopula` object with cases data (`np.array(np.array())`), the axis indexing defaults to the outermost starting with 0. In this case of 4D cases, as mentioned by the `shape` parameter: `axis = 0` has 2 categories, `axis = 1` has 3 categories, `axis = 2` has 2 categories, and `axis = 3` has 6 categories. According to the JMA2021 paper, we have $X_1$ at `axis = 0`, $X_2$ at `axis = 1`, $X_3$ at `axis = 2`, and $X_4$ at `axis = 3`."
   ]
  },
  {
   "cell_type": "code",
   "execution_count": null,
   "metadata": {},
   "outputs": [
    {
     "name": "stdout",
     "output_type": "stream",
     "text": [
      "Shape of the inferred joint probability matrix P: (2, 3, 2, 6)\n",
      "Probability matrix P:\n",
      "[[[[0.         0.         0.         0.         0.01980198 0.01980198]\n",
      "   [0.         0.         0.00990099 0.00990099 0.02970297 0.        ]]\n",
      "\n",
      "  [[0.         0.01980198 0.02970297 0.         0.05940594 0.03960396]\n",
      "   [0.         0.00990099 0.         0.01980198 0.         0.00990099]]\n",
      "\n",
      "  [[0.         0.00990099 0.         0.         0.01980198 0.03960396]\n",
      "   [0.         0.         0.         0.00990099 0.02970297 0.        ]]]\n",
      "\n",
      "\n",
      " [[[0.01980198 0.01980198 0.00990099 0.04950495 0.01980198 0.        ]\n",
      "   [0.01980198 0.         0.01980198 0.02970297 0.         0.        ]]\n",
      "\n",
      "  [[0.         0.02970297 0.03960396 0.04950495 0.05940594 0.01980198]\n",
      "   [0.00990099 0.03960396 0.03960396 0.02970297 0.         0.00990099]]\n",
      "\n",
      "  [[0.         0.         0.02970297 0.         0.00990099 0.01980198]\n",
      "   [0.         0.00990099 0.         0.         0.02970297 0.        ]]]]\n",
      "\n",
      "Marginal pdfs:\n",
      "{0: array([0.38613861, 0.61386139]), 1: array([0.27722772, 0.51485149, 0.20792079]), 2: array([0.63366337, 0.36633663]), 3: array([0.04950495, 0.13861386, 0.17821782, 0.1980198 , 0.27722772,\n",
      "       0.15841584])}\n",
      "\n",
      "Marginal cdfs:\n",
      "{0: array([0.        , 0.38613861, 1.        ]), 1: array([0.        , 0.27722772, 0.79207921, 1.        ]), 2: array([0.        , 0.63366337, 1.        ]), 3: array([0.        , 0.04950495, 0.18811881, 0.36633663, 0.56435644,\n",
      "       0.84158416, 1.        ])}\n",
      "Parsed contingency table (normalized):\n",
      "[[[[0 0 0 0 2 2]\n",
      "   [0 0 1 1 3 0]]\n",
      "\n",
      "  [[0 2 3 0 6 4]\n",
      "   [0 1 0 2 0 1]]\n",
      "\n",
      "  [[0 1 0 0 2 4]\n",
      "   [0 0 0 1 3 0]]]\n",
      "\n",
      "\n",
      " [[[2 2 1 5 2 0]\n",
      "   [2 0 2 3 0 0]]\n",
      "\n",
      "  [[0 3 4 5 6 2]\n",
      "   [1 4 4 3 0 1]]\n",
      "\n",
      "  [[0 0 3 0 1 2]\n",
      "   [0 1 0 0 3 0]]]]\n"
     ]
    }
   ],
   "source": [
    "real_cases_data = np.array([\n",
    "    # RDA Row 1\n",
    "    [0,2,0,1],[0,2,0,4],[0,2,0,4],\n",
    "    [0,2,0,5], [0,2,0,5],[0,2,0,5],[0,2,0,5],\n",
    "    # RDA Row 2\n",
    "    [0,2,1,3],[0,2,1,4],[0,2,1,4],[0,2,1,4],\n",
    "    # RDA Row 3\n",
    "    [0,1,0,1],[0,1,0,1],[0,1,0,2],[0,1,0,2],[0,1,0,2],\n",
    "    [0,1,0,4],[0,1,0,4],[0,1,0,4],[0,1,0,4],[0,1,0,4],[0,1,0,4],\n",
    "    [0,1,0,5],[0,1,0,5],[0,1,0,5],[0,1,0,5],\n",
    "    # RDA Row 4\n",
    "    [0,1,1,1],[0,1,1,3],[0,1,1,3],[0,1,1,5],\n",
    "    # RDA Row 5\n",
    "    [0,0,0,4],[0,0,0,4],[0,0,0,5],[0,0,0,5],\n",
    "    # RDA Row 6\n",
    "    [0,0,1,2],[0,0,1,3],[0,0,1,4],[0,0,1,4],[0,0,1,4],\n",
    "    # RDA Row 7\n",
    "    [1,2,0,2],[1,2,0,2],[1,2,0,2],[1,2,0,4],[1,2,0,5],[1,2,0,5],\n",
    "    # RDA Row 8\n",
    "    [1,2,1,1],[1,2,1,4],[1,2,1,4],[1,2,1,4],\n",
    "    # RDA Row 9\n",
    "    [1,1,0,1],[1,1,0,1],[1,1,0,1],[1,1,0,2],[1,1,0,2],[1,1,0,2],[1,1,0,2],\n",
    "    [1,1,0,3],[1,1,0,3],[1,1,0,3],[1,1,0,3],[1,1,0,3],\n",
    "    [1,1,0,4],[1,1,0,4],[1,1,0,4],[1,1,0,4],[1,1,0,4],[1,1,0,4],\n",
    "    [1,1,0,5],[1,1,0,5],\n",
    "    # RDA Row 10\n",
    "    [1,1,1,0],[1,1,1,1],[1,1,1,1],[1,1,1,1],[1,1,1,1],\n",
    "    [1,1,1,2],[1,1,1,2],[1,1,1,2],[1,1,1,2],\n",
    "    [1,1,1,3],[1,1,1,3],[1,1,1,3],[1,1,1,5],\n",
    "    # RDA Row 11\n",
    "    [1,0,0,0],[1,0,0,0],[1,0,0,1],[1,0,0,1],[1,0,0,2],\n",
    "    [1,0,0,3],[1,0,0,3],[1,0,0,3],[1,0,0,3],[1,0,0,3],\n",
    "    [1,0,0,4],[1,0,0,4],\n",
    "    # RDA Row 12\n",
    "    [1,0,1,0],[1,0,1,0],[1,0,1,2],[1,0,1,2],\n",
    "    [1,0,1,3],[1,0,1,3],[1,0,1,3]\n",
    "])\n",
    "rda_copula = GenericCheckerboardCopula.from_cases(cases=real_cases_data, shape=(2,3,2,6))\n",
    "print(f\"Shape of the inferred joint probability matrix P: {rda_copula.P.shape}\")\n",
    "print(f\"Probability matrix P:\\n{rda_copula.P}\\n\")\n",
    "print(f\"Marginal pdfs:\\n{rda_copula.marginal_pdfs}\\n\")\n",
    "print(f\"Marginal cdfs:\\n{rda_copula.marginal_cdfs}\")"
   ]
  },
  {
   "cell_type": "markdown",
   "metadata": {},
   "source": [
    "### Calculating CCRAM & SCCRAM (non-vectorized)"
   ]
  },
  {
   "cell_type": "code",
   "execution_count": null,
   "metadata": {},
   "outputs": [
    {
     "name": "stdout",
     "output_type": "stream",
     "text": [
      "CCRAM 012->3: 0.2604\n",
      "SCCRAM 012->3: 0.2716\n"
     ]
    }
   ],
   "source": [
    "rda_ccram_012_to_3 = rda_copula.calculate_CCRAM(from_axes=[0, 1, 2], to_axis=3)\n",
    "print(f\"CCRAM 012->3: {rda_ccram_012_to_3:.4f}\")\n",
    "\n",
    "rda_sccram_012_to_3 = rda_copula.calculate_CCRAM(from_axes=[0, 1, 2], to_axis=3, scaled=True)\n",
    "print(f\"SCCRAM 012->3: {rda_sccram_012_to_3:.4f}\")"
   ]
  },
  {
   "cell_type": "markdown",
   "metadata": {},
   "source": [
    "### Getting Category Predictions"
   ]
  },
  {
   "cell_type": "code",
   "execution_count": 25,
   "metadata": {},
   "outputs": [
    {
     "name": "stdout",
     "output_type": "stream",
     "text": [
      "\n",
      "Predictions from axis 012 to axis 3:\n",
      "    X0 Category  X1 Category  X2 Category  Predicted X3 Category\n",
      "0             1            1            1                      5\n",
      "1             1            1            2                      5\n",
      "2             1            2            1                      5\n",
      "3             1            2            2                      4\n",
      "4             1            3            1                      5\n",
      "5             1            3            2                      5\n",
      "6             2            1            1                      3\n",
      "7             2            1            2                      3\n",
      "8             2            2            1                      4\n",
      "9             2            2            2                      3\n",
      "10            2            3            1                      4\n",
      "11            2            3            2                      4\n",
      "\n",
      "Predictions from X1, X2, X3 to Y = X4:\n",
      "    X1 Category  X2 Category  X3 Category  Predicted Y = X4 Category\n",
      "0             1            1            1                          5\n",
      "1             1            1            2                          5\n",
      "2             1            2            1                          5\n",
      "3             1            2            2                          4\n",
      "4             1            3            1                          5\n",
      "5             1            3            2                          5\n",
      "6             2            1            1                          3\n",
      "7             2            1            2                          3\n",
      "8             2            2            1                          4\n",
      "9             2            2            2                          3\n",
      "10            2            3            1                          4\n",
      "11            2            3            2                          4\n"
     ]
    }
   ],
   "source": [
    "rda_predictions_012_to_3 = rda_copula.get_category_predictions_multi(from_axes=[0, 1, 2], to_axis=3)\n",
    "print(\"\\nPredictions from axis 012 to axis 3:\")\n",
    "print(rda_predictions_012_to_3)\n",
    "\n",
    "rda_axis_to_name_dict = {0: \"X1\", 1: \"X2\", 2: \"X3\", 3: \"Y = X4\"}\n",
    "rda_predictions_012_to_3_named = rda_copula.get_category_predictions_multi(from_axes=[0, 1, 2], to_axis=3, axis_names=rda_axis_to_name_dict)\n",
    "print(\"\\nPredictions from X1, X2, X3 to Y = X4:\")\n",
    "print(rda_predictions_012_to_3_named)"
   ]
  },
  {
   "cell_type": "markdown",
   "metadata": {},
   "source": [
    "### Calculating Scores and their Variances"
   ]
  },
  {
   "cell_type": "code",
   "execution_count": 26,
   "metadata": {},
   "outputs": [
    {
     "name": "stdout",
     "output_type": "stream",
     "text": [
      "Scores for axis 0:\n",
      "[np.float64(0.19306930693069307), np.float64(0.693069306930693)]\n",
      "\n",
      "Scores for axis 1:\n",
      "[np.float64(0.13861386138613863), np.float64(0.5346534653465347), np.float64(0.8960396039603961)]\n",
      "\n",
      "Scores for axis 2:\n",
      "[np.float64(0.3168316831683168), np.float64(0.8168316831683167)]\n",
      "\n",
      "Scores for axis 3:\n",
      "[np.float64(0.024752475247524754), np.float64(0.1188118811881188), np.float64(0.27722772277227725), np.float64(0.4653465346534653), np.float64(0.7029702970297029), np.float64(0.9207920792079207)]\n",
      "\n",
      "Variance of scores for axis 0: 0.059258896186648376\n",
      "\n",
      "Variance of scores for axis 1: 0.0694360191827437\n",
      "\n",
      "Variance of scores for axis 2: 0.0580335261248897\n",
      "\n",
      "Variance of scores for axis 3: 0.07987568681385342\n"
     ]
    }
   ],
   "source": [
    "# Calculate and display scores for both axes\n",
    "rda_scores_axis0 = rda_copula.calculate_scores(axis=0)\n",
    "rda_scores_axis1 = rda_copula.calculate_scores(axis=1)\n",
    "rda_scores_axis2 = rda_copula.calculate_scores(axis=2)\n",
    "rda_scores_axis3 = rda_copula.calculate_scores(axis=3)\n",
    "\n",
    "print(\"Scores for axis 0:\")\n",
    "print(rda_scores_axis0)\n",
    "print(\"\\nScores for axis 1:\")\n",
    "print(rda_scores_axis1)\n",
    "print(\"\\nScores for axis 2:\")\n",
    "print(rda_scores_axis2)\n",
    "print(\"\\nScores for axis 3:\")\n",
    "print(rda_scores_axis3)\n",
    "\n",
    "# Calculate and display variance of scores\n",
    "rda_variance_axis0 = rda_copula.calculate_variance_S(axis=0)\n",
    "rda_variance_axis1 = rda_copula.calculate_variance_S(axis=1)\n",
    "rda_variance_axis2 = rda_copula.calculate_variance_S(axis=2)\n",
    "rda_variance_axis3 = rda_copula.calculate_variance_S(axis=3)\n",
    "\n",
    "print(\"\\nVariance of scores for axis 0:\", rda_variance_axis0)\n",
    "print(\"\\nVariance of scores for axis 1:\", rda_variance_axis1)\n",
    "print(\"\\nVariance of scores for axis 2:\", rda_variance_axis2)\n",
    "print(\"\\nVariance of scores for axis 3:\", rda_variance_axis3)\n",
    "# Expected 12 * (variance of scores for axis 3): 0.07987568681385342*12 = 0.95850824176"
   ]
  }
 ],
 "metadata": {
  "colab": {
   "provenance": []
  },
  "kernelspec": {
   "display_name": "discopula",
   "language": "python",
   "name": "python3"
  },
  "language_info": {
   "codemirror_mode": {
    "name": "ipython",
    "version": 3
   },
   "file_extension": ".py",
   "mimetype": "text/x-python",
   "name": "python",
   "nbconvert_exporter": "python",
   "pygments_lexer": "ipython3",
   "version": "3.13.0"
  }
 },
 "nbformat": 4,
 "nbformat_minor": 0
}
