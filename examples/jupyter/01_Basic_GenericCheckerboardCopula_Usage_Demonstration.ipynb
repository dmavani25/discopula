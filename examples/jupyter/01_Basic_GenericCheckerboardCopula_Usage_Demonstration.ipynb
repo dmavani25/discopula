{
 "cells": [
  {
   "cell_type": "code",
   "execution_count": 1,
   "metadata": {
    "colab": {
     "base_uri": "https://localhost:8080/"
    },
    "id": "JRypjJ_arYE1",
    "outputId": "0021e68e-2881-4c11-a081-22d73f9c33b9"
   },
   "outputs": [
    {
     "name": "stdout",
     "output_type": "stream",
     "text": [
      "Collecting discopula\n",
      "  Downloading discopula-0.2.0-py3-none-any.whl.metadata (5.2 kB)\n",
      "Requirement already satisfied: numpy in /usr/local/lib/python3.10/dist-packages (from discopula) (1.26.4)\n",
      "Requirement already satisfied: scipy in /usr/local/lib/python3.10/dist-packages (from discopula) (1.13.1)\n",
      "Requirement already satisfied: matplotlib in /usr/local/lib/python3.10/dist-packages (from discopula) (3.8.0)\n",
      "Requirement already satisfied: contourpy>=1.0.1 in /usr/local/lib/python3.10/dist-packages (from matplotlib->discopula) (1.3.1)\n",
      "Requirement already satisfied: cycler>=0.10 in /usr/local/lib/python3.10/dist-packages (from matplotlib->discopula) (0.12.1)\n",
      "Requirement already satisfied: fonttools>=4.22.0 in /usr/local/lib/python3.10/dist-packages (from matplotlib->discopula) (4.55.3)\n",
      "Requirement already satisfied: kiwisolver>=1.0.1 in /usr/local/lib/python3.10/dist-packages (from matplotlib->discopula) (1.4.7)\n",
      "Requirement already satisfied: packaging>=20.0 in /usr/local/lib/python3.10/dist-packages (from matplotlib->discopula) (24.2)\n",
      "Requirement already satisfied: pillow>=6.2.0 in /usr/local/lib/python3.10/dist-packages (from matplotlib->discopula) (11.0.0)\n",
      "Requirement already satisfied: pyparsing>=2.3.1 in /usr/local/lib/python3.10/dist-packages (from matplotlib->discopula) (3.2.0)\n",
      "Requirement already satisfied: python-dateutil>=2.7 in /usr/local/lib/python3.10/dist-packages (from matplotlib->discopula) (2.8.2)\n",
      "Requirement already satisfied: six>=1.5 in /usr/local/lib/python3.10/dist-packages (from python-dateutil>=2.7->matplotlib->discopula) (1.17.0)\n",
      "Downloading discopula-0.2.0-py3-none-any.whl (39 kB)\n",
      "Installing collected packages: discopula\n",
      "Successfully installed discopula-0.2.0\n"
     ]
    }
   ],
   "source": [
    "%pip install discopula"
   ]
  },
  {
   "cell_type": "markdown",
   "metadata": {
    "id": "60XA0DH1rxLE"
   },
   "source": [
    "> Make sure to have discopula's latest version installed using `pip`. More information about the latest version can be found at https://pypi.org/project/discopula/"
   ]
  },
  {
   "cell_type": "code",
   "execution_count": null,
   "metadata": {
    "id": "m83NAn8msA3i"
   },
   "outputs": [],
   "source": [
    "import numpy as np\n",
    "from discopula import GenericCheckerboardCopula"
   ]
  },
  {
   "cell_type": "markdown",
   "metadata": {
    "id": "MN4xT6NCtGX7"
   },
   "source": [
    "### Create Sample Contingency Table and Initialize the GenericCheckerboardCopula"
   ]
  },
  {
   "cell_type": "code",
   "execution_count": 3,
   "metadata": {
    "colab": {
     "base_uri": "https://localhost:8080/"
    },
    "id": "01yuLPR8tRy3",
    "outputId": "842d8f88-b74c-49c7-8dbd-70f59cb3dfe9"
   },
   "outputs": [
    {
     "name": "stdout",
     "output_type": "stream",
     "text": [
      "2\n",
      "Shape: (5, 3)\n",
      "Probability matrix P:\n",
      "[[0.    0.    0.25 ]\n",
      " [0.    0.125 0.   ]\n",
      " [0.25  0.    0.   ]\n",
      " [0.    0.125 0.   ]\n",
      " [0.    0.    0.25 ]]\n",
      "[[0 0 2]\n",
      " [0 1 0]\n",
      " [2 0 0]\n",
      " [0 1 0]\n",
      " [0 0 2]]\n"
     ]
    }
   ],
   "source": [
    "contingency_table = np.array([\n",
    "    [0, 0, 20],\n",
    "    [0, 10, 0],\n",
    "    [20, 0, 0],\n",
    "    [0, 10, 0],\n",
    "    [0, 0, 20]\n",
    "])\n",
    "copula = GenericCheckerboardCopula.from_contingency_table(contingency_table)\n",
    "print(f\"Shape: {copula.P.shape}\")\n",
    "print(f\"Probability matrix P:\\n{copula.P}\")\n",
    "\n",
    "# Getting Back the contingency table mid-way at any given time\n",
    "reconstructed_table = copula.contingency_table\n",
    "print(reconstructed_table)"
   ]
  },
  {
   "cell_type": "markdown",
   "metadata": {
    "id": "W3a_y_pJt5te"
   },
   "source": [
    "### Calculating CCRAM & SCCRAM (non-vectorized)"
   ]
  },
  {
   "cell_type": "code",
   "execution_count": 5,
   "metadata": {
    "colab": {
     "base_uri": "https://localhost:8080/"
    },
    "id": "c_sywsi-uEsR",
    "outputId": "96ff4561-1b07-41d8-e6e0-119f18fd8035"
   },
   "outputs": [
    {
     "name": "stdout",
     "output_type": "stream",
     "text": [
      "CCRAM 0->1: 0.8438\n",
      "CCRAM 1->0: 0.0000\n",
      "SCCRAM 0->1: 1.0000\n",
      "SCCRAM 1->0: 0.0000\n"
     ]
    }
   ],
   "source": [
    "ccram_0_to_1 = copula.calculate_CCRAM(from_axis=0, to_axis=1)\n",
    "ccram_1_to_0 = copula.calculate_CCRAM(from_axis=1, to_axis=0)\n",
    "print(f\"CCRAM 0->1: {ccram_0_to_1:.4f}\")\n",
    "print(f\"CCRAM 1->0: {ccram_1_to_0:.4f}\")\n",
    "\n",
    "sccram_0_to_1 = copula.calculate_CCRAM(from_axis=0, to_axis=1, is_scaled=True)\n",
    "sccram_1_to_0 = copula.calculate_CCRAM(from_axis=1, to_axis=0, is_scaled=True)\n",
    "print(f\"SCCRAM 0->1: {sccram_0_to_1:.4f}\")\n",
    "print(f\"SCCRAM 1->0: {sccram_1_to_0:.4f}\")"
   ]
  },
  {
   "cell_type": "markdown",
   "metadata": {
    "id": "NUSClfPOu5pR"
   },
   "source": [
    "### Calculating CCRAM & SCCRAM (vectorized)"
   ]
  },
  {
   "cell_type": "code",
   "execution_count": 6,
   "metadata": {
    "colab": {
     "base_uri": "https://localhost:8080/"
    },
    "id": "YnKl2jIvvMfK",
    "outputId": "64dee1f2-1e91-43f8-ebb9-69d4a3c0302d"
   },
   "outputs": [
    {
     "name": "stdout",
     "output_type": "stream",
     "text": [
      "CCRAM 0->1: 0.8438\n",
      "CCRAM 1->0: 0.0000\n",
      "SCCRAM 0->1: 1.0000\n",
      "SCCRAM 1->0: 0.0000\n"
     ]
    }
   ],
   "source": [
    "ccram_0_to_1_vec = copula.calculate_CCRAM_vectorized(from_axis=0, to_axis=1)\n",
    "ccram_1_to_0_vec = copula.calculate_CCRAM_vectorized(from_axis=1, to_axis=0)\n",
    "print(f\"CCRAM 0->1: {ccram_0_to_1_vec:.4f}\")\n",
    "print(f\"CCRAM 1->0: {ccram_1_to_0_vec:.4f}\")\n",
    "\n",
    "sccram_0_to_1_vec = copula.calculate_CCRAM_vectorized(from_axis=0, to_axis=1, is_scaled=True)\n",
    "sccram_1_to_0_vec = copula.calculate_CCRAM_vectorized(from_axis=1, to_axis=0, is_scaled=True)\n",
    "print(f\"SCCRAM 0->1: {sccram_0_to_1_vec:.4f}\")\n",
    "print(f\"SCCRAM 1->0: {sccram_1_to_0_vec:.4f}\")"
   ]
  },
  {
   "cell_type": "markdown",
   "metadata": {
    "id": "qP0O6kaEvqye"
   },
   "source": [
    "### Getting Category Predictions"
   ]
  },
  {
   "cell_type": "code",
   "execution_count": 7,
   "metadata": {
    "colab": {
     "base_uri": "https://localhost:8080/"
    },
    "id": "wDI1ud2hv-d7",
    "outputId": "a4701121-bc3c-4d0c-ec14-65f9d247f50f"
   },
   "outputs": [
    {
     "name": "stdout",
     "output_type": "stream",
     "text": [
      "\n",
      "Category Predictions: X → Y\n",
      "----------------------------------------\n",
      "\n",
      "Predictions from axis 0 to axis 1:\n",
      "   X Category  Predicted Y Category\n",
      "0           0                     2\n",
      "1           1                     1\n",
      "2           2                     0\n",
      "3           3                     1\n",
      "4           4                     2\n",
      "\n",
      "Category Predictions: Y → X\n",
      "----------------------------------------\n",
      "\n",
      "Predictions from axis 1 to axis 0:\n",
      "   Y Category  Predicted X Category\n",
      "0           0                     2\n",
      "1           1                     2\n",
      "2           2                     2\n"
     ]
    }
   ],
   "source": [
    "predictions_0_to_1 = copula.get_category_predictions(0, 1)\n",
    "print(\"\\nPredictions from axis 0 to axis 1:\")\n",
    "print(predictions_0_to_1)\n",
    "predictions_1_to_0 = copula.get_category_predictions(1, 0, \"Y\", \"X\")\n",
    "print(\"\\nPredictions from axis 1 to axis 0:\")\n",
    "print(predictions_1_to_0)"
   ]
  }
 ],
 "metadata": {
  "colab": {
   "provenance": []
  },
  "kernelspec": {
   "display_name": "Python 3",
   "name": "python3"
  },
  "language_info": {
   "name": "python"
  }
 },
 "nbformat": 4,
 "nbformat_minor": 0
}
