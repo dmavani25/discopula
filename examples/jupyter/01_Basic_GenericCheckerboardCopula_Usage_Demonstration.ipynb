{
  "nbformat": 4,
  "nbformat_minor": 0,
  "metadata": {
    "colab": {
      "provenance": []
    },
    "kernelspec": {
      "name": "python3",
      "display_name": "Python 3"
    },
    "language_info": {
      "name": "python"
    }
  },
  "cells": [
    {
      "cell_type": "code",
      "execution_count": 1,
      "metadata": {
        "colab": {
          "base_uri": "https://localhost:8080/"
        },
        "id": "JRypjJ_arYE1",
        "outputId": "082b82e7-032b-4455-8499-b11b232d257c"
      },
      "outputs": [
        {
          "output_type": "stream",
          "name": "stdout",
          "text": [
            "Collecting discopula\n",
            "  Downloading discopula-0.2.1-py3-none-any.whl.metadata (5.2 kB)\n",
            "Requirement already satisfied: numpy in /usr/local/lib/python3.10/dist-packages (from discopula) (1.26.4)\n",
            "Requirement already satisfied: scipy in /usr/local/lib/python3.10/dist-packages (from discopula) (1.13.1)\n",
            "Requirement already satisfied: matplotlib in /usr/local/lib/python3.10/dist-packages (from discopula) (3.8.0)\n",
            "Requirement already satisfied: contourpy>=1.0.1 in /usr/local/lib/python3.10/dist-packages (from matplotlib->discopula) (1.3.1)\n",
            "Requirement already satisfied: cycler>=0.10 in /usr/local/lib/python3.10/dist-packages (from matplotlib->discopula) (0.12.1)\n",
            "Requirement already satisfied: fonttools>=4.22.0 in /usr/local/lib/python3.10/dist-packages (from matplotlib->discopula) (4.55.3)\n",
            "Requirement already satisfied: kiwisolver>=1.0.1 in /usr/local/lib/python3.10/dist-packages (from matplotlib->discopula) (1.4.7)\n",
            "Requirement already satisfied: packaging>=20.0 in /usr/local/lib/python3.10/dist-packages (from matplotlib->discopula) (24.2)\n",
            "Requirement already satisfied: pillow>=6.2.0 in /usr/local/lib/python3.10/dist-packages (from matplotlib->discopula) (11.0.0)\n",
            "Requirement already satisfied: pyparsing>=2.3.1 in /usr/local/lib/python3.10/dist-packages (from matplotlib->discopula) (3.2.0)\n",
            "Requirement already satisfied: python-dateutil>=2.7 in /usr/local/lib/python3.10/dist-packages (from matplotlib->discopula) (2.8.2)\n",
            "Requirement already satisfied: six>=1.5 in /usr/local/lib/python3.10/dist-packages (from python-dateutil>=2.7->matplotlib->discopula) (1.17.0)\n",
            "Downloading discopula-0.2.1-py3-none-any.whl (39 kB)\n",
            "Installing collected packages: discopula\n",
            "Successfully installed discopula-0.2.1\n"
          ]
        }
      ],
      "source": [
        "%pip install discopula"
      ]
    },
    {
      "cell_type": "markdown",
      "source": [
        "> Make sure to have discopula's latest version installed using `pip`. More information about the latest version can be found at https://pypi.org/project/discopula/"
      ],
      "metadata": {
        "id": "60XA0DH1rxLE"
      }
    },
    {
      "cell_type": "code",
      "source": [
        "import numpy as np\n",
        "from discopula import GenericCheckerboardCopula"
      ],
      "metadata": {
        "id": "m83NAn8msA3i"
      },
      "execution_count": 2,
      "outputs": []
    },
    {
      "cell_type": "markdown",
      "source": [
        "### Create Sample Contingency Table and Initialize the GenericCheckerboardCopula"
      ],
      "metadata": {
        "id": "MN4xT6NCtGX7"
      }
    },
    {
      "cell_type": "code",
      "source": [
        "contingency_table = np.array([\n",
        "    [0, 0, 20],\n",
        "    [0, 10, 0],\n",
        "    [20, 0, 0],\n",
        "    [0, 10, 0],\n",
        "    [0, 0, 20]\n",
        "])\n",
        "copula = GenericCheckerboardCopula.from_contingency_table(contingency_table)\n",
        "print(f\"Shape: {copula.P.shape}\")\n",
        "print(f\"Probability matrix P:\\n{copula.P}\")\n",
        "\n",
        "# Getting Back the contingency table mid-way at any given time\n",
        "reconstructed_table = copula.contingency_table\n",
        "print(reconstructed_table)"
      ],
      "metadata": {
        "colab": {
          "base_uri": "https://localhost:8080/"
        },
        "id": "01yuLPR8tRy3",
        "outputId": "e90fd3a8-f27f-4787-e680-e2df60456c5c"
      },
      "execution_count": 3,
      "outputs": [
        {
          "output_type": "stream",
          "name": "stdout",
          "text": [
            "Shape: (5, 3)\n",
            "Probability matrix P:\n",
            "[[0.    0.    0.25 ]\n",
            " [0.    0.125 0.   ]\n",
            " [0.25  0.    0.   ]\n",
            " [0.    0.125 0.   ]\n",
            " [0.    0.    0.25 ]]\n",
            "[[0 0 2]\n",
            " [0 1 0]\n",
            " [2 0 0]\n",
            " [0 1 0]\n",
            " [0 0 2]]\n"
          ]
        }
      ]
    },
    {
      "cell_type": "markdown",
      "source": [
        "### Calculating CCRAM & SCCRAM (non-vectorized)"
      ],
      "metadata": {
        "id": "W3a_y_pJt5te"
      }
    },
    {
      "cell_type": "code",
      "source": [
        "ccram_0_to_1 = copula.calculate_CCRAM(from_axis=0, to_axis=1)\n",
        "ccram_1_to_0 = copula.calculate_CCRAM(from_axis=1, to_axis=0)\n",
        "print(f\"CCRAM 0->1: {ccram_0_to_1:.4f}\")\n",
        "print(f\"CCRAM 1->0: {ccram_1_to_0:.4f}\")\n",
        "\n",
        "sccram_0_to_1 = copula.calculate_CCRAM(from_axis=0, to_axis=1, is_scaled=True)\n",
        "sccram_1_to_0 = copula.calculate_CCRAM(from_axis=1, to_axis=0, is_scaled=True)\n",
        "print(f\"SCCRAM 0->1: {sccram_0_to_1:.4f}\")\n",
        "print(f\"SCCRAM 1->0: {sccram_1_to_0:.4f}\")"
      ],
      "metadata": {
        "colab": {
          "base_uri": "https://localhost:8080/"
        },
        "id": "c_sywsi-uEsR",
        "outputId": "5c14de61-672e-40b9-d888-4b54e7604f11"
      },
      "execution_count": 4,
      "outputs": [
        {
          "output_type": "stream",
          "name": "stdout",
          "text": [
            "CCRAM 0->1: 0.8438\n",
            "CCRAM 1->0: 0.0000\n",
            "SCCRAM 0->1: 1.0000\n",
            "SCCRAM 1->0: 0.0000\n"
          ]
        }
      ]
    },
    {
      "cell_type": "markdown",
      "source": [
        "### Calculating CCRAM & SCCRAM (vectorized)"
      ],
      "metadata": {
        "id": "NUSClfPOu5pR"
      }
    },
    {
      "cell_type": "code",
      "source": [
        "ccram_0_to_1_vec = copula.calculate_CCRAM_vectorized(from_axis=0, to_axis=1)\n",
        "ccram_1_to_0_vec = copula.calculate_CCRAM_vectorized(from_axis=1, to_axis=0)\n",
        "print(f\"CCRAM 0->1: {ccram_0_to_1_vec:.4f}\")\n",
        "print(f\"CCRAM 1->0: {ccram_1_to_0_vec:.4f}\")\n",
        "\n",
        "sccram_0_to_1_vec = copula.calculate_CCRAM_vectorized(from_axis=0, to_axis=1, is_scaled=True)\n",
        "sccram_1_to_0_vec = copula.calculate_CCRAM_vectorized(from_axis=1, to_axis=0, is_scaled=True)\n",
        "print(f\"SCCRAM 0->1: {sccram_0_to_1_vec:.4f}\")\n",
        "print(f\"SCCRAM 1->0: {sccram_1_to_0_vec:.4f}\")"
      ],
      "metadata": {
        "colab": {
          "base_uri": "https://localhost:8080/"
        },
        "id": "YnKl2jIvvMfK",
        "outputId": "7ddcd348-f303-4f00-bc2d-ae0b68df0f8b"
      },
      "execution_count": 5,
      "outputs": [
        {
          "output_type": "stream",
          "name": "stdout",
          "text": [
            "CCRAM 0->1: 0.8438\n",
            "CCRAM 1->0: 0.0000\n",
            "SCCRAM 0->1: 1.0000\n",
            "SCCRAM 1->0: 0.0000\n"
          ]
        }
      ]
    },
    {
      "cell_type": "markdown",
      "source": [
        "### Getting Category Predictions"
      ],
      "metadata": {
        "id": "qP0O6kaEvqye"
      }
    },
    {
      "cell_type": "code",
      "source": [
        "predictions_0_to_1 = copula.get_category_predictions(0, 1)\n",
        "print(\"\\nPredictions from axis 0 to axis 1:\")\n",
        "print(predictions_0_to_1)\n",
        "predictions_1_to_0 = copula.get_category_predictions(1, 0, \"Y\", \"X\")\n",
        "print(\"\\nPredictions from axis 1 to axis 0:\")\n",
        "print(predictions_1_to_0)"
      ],
      "metadata": {
        "colab": {
          "base_uri": "https://localhost:8080/"
        },
        "id": "wDI1ud2hv-d7",
        "outputId": "6bab13ec-37d6-4268-f038-59890b9eb332"
      },
      "execution_count": 6,
      "outputs": [
        {
          "output_type": "stream",
          "name": "stdout",
          "text": [
            "\n",
            "Category Predictions: X → Y\n",
            "----------------------------------------\n",
            "\n",
            "Predictions from axis 0 to axis 1:\n",
            "   X Category  Predicted Y Category\n",
            "0           0                     2\n",
            "1           1                     1\n",
            "2           2                     0\n",
            "3           3                     1\n",
            "4           4                     2\n",
            "\n",
            "Category Predictions: Y → X\n",
            "----------------------------------------\n",
            "\n",
            "Predictions from axis 1 to axis 0:\n",
            "   Y Category  Predicted X Category\n",
            "0           0                     2\n",
            "1           1                     2\n",
            "2           2                     2\n"
          ]
        }
      ]
    }
  ]
}