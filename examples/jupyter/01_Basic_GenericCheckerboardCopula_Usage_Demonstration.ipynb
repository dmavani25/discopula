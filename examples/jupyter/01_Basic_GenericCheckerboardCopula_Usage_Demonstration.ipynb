{
 "cells": [
  {
   "cell_type": "code",
   "execution_count": 1,
   "metadata": {
    "colab": {
     "base_uri": "https://localhost:8080/"
    },
    "id": "JRypjJ_arYE1",
    "outputId": "082b82e7-032b-4455-8499-b11b232d257c"
   },
   "outputs": [
    {
     "name": "stdout",
     "output_type": "stream",
     "text": [
      "Requirement already satisfied: discopula in /opt/anaconda3/envs/discopula/lib/python3.13/site-packages (0.6.1)\n",
      "Requirement already satisfied: numpy in /opt/anaconda3/envs/discopula/lib/python3.13/site-packages (from discopula) (2.1.3)\n",
      "Requirement already satisfied: scipy in /opt/anaconda3/envs/discopula/lib/python3.13/site-packages (from discopula) (1.14.1)\n",
      "Requirement already satisfied: matplotlib in /opt/anaconda3/envs/discopula/lib/python3.13/site-packages (from discopula) (3.10.0)\n",
      "Requirement already satisfied: contourpy>=1.0.1 in /opt/anaconda3/envs/discopula/lib/python3.13/site-packages (from matplotlib->discopula) (1.3.1)\n",
      "Requirement already satisfied: cycler>=0.10 in /opt/anaconda3/envs/discopula/lib/python3.13/site-packages (from matplotlib->discopula) (0.12.1)\n",
      "Requirement already satisfied: fonttools>=4.22.0 in /opt/anaconda3/envs/discopula/lib/python3.13/site-packages (from matplotlib->discopula) (4.55.3)\n",
      "Requirement already satisfied: kiwisolver>=1.3.1 in /opt/anaconda3/envs/discopula/lib/python3.13/site-packages (from matplotlib->discopula) (1.4.8)\n",
      "Requirement already satisfied: packaging>=20.0 in /opt/anaconda3/envs/discopula/lib/python3.13/site-packages (from matplotlib->discopula) (24.2)\n",
      "Requirement already satisfied: pillow>=8 in /opt/anaconda3/envs/discopula/lib/python3.13/site-packages (from matplotlib->discopula) (11.0.0)\n",
      "Requirement already satisfied: pyparsing>=2.3.1 in /opt/anaconda3/envs/discopula/lib/python3.13/site-packages (from matplotlib->discopula) (3.2.0)\n",
      "Requirement already satisfied: python-dateutil>=2.7 in /opt/anaconda3/envs/discopula/lib/python3.13/site-packages (from matplotlib->discopula) (2.9.0.post0)\n",
      "Requirement already satisfied: six>=1.5 in /opt/anaconda3/envs/discopula/lib/python3.13/site-packages (from python-dateutil>=2.7->matplotlib->discopula) (1.17.0)\n",
      "\n",
      "\u001b[1m[\u001b[0m\u001b[34;49mnotice\u001b[0m\u001b[1;39;49m]\u001b[0m\u001b[39;49m A new release of pip is available: \u001b[0m\u001b[31;49m24.3.1\u001b[0m\u001b[39;49m -> \u001b[0m\u001b[32;49m25.0.1\u001b[0m\n",
      "\u001b[1m[\u001b[0m\u001b[34;49mnotice\u001b[0m\u001b[1;39;49m]\u001b[0m\u001b[39;49m To update, run: \u001b[0m\u001b[32;49mpip install --upgrade pip\u001b[0m\n",
      "Note: you may need to restart the kernel to use updated packages.\n"
     ]
    }
   ],
   "source": [
    "%pip install discopula"
   ]
  },
  {
   "cell_type": "markdown",
   "metadata": {
    "id": "60XA0DH1rxLE"
   },
   "source": [
    "> Make sure to have discopula's latest version installed using `pip`. More information about the latest version can be found at https://pypi.org/project/discopula/"
   ]
  },
  {
   "cell_type": "markdown",
   "metadata": {},
   "source": [
    "Run the following upgrade commands on your terminal if you are facing issues related to `pip` or `scipy`\n",
    "\n",
    "```\n",
    "# pip install --upgrade pip\n",
    "# pip install --upgrade scipy\n",
    "```"
   ]
  },
  {
   "cell_type": "code",
   "execution_count": 2,
   "metadata": {
    "id": "m83NAn8msA3i"
   },
   "outputs": [],
   "source": [
    "import numpy as np\n",
    "from discopula import GenericCheckerboardCopula"
   ]
  },
  {
   "cell_type": "markdown",
   "metadata": {},
   "source": [
    "# 2-Dimensional Case "
   ]
  },
  {
   "cell_type": "markdown",
   "metadata": {
    "id": "MN4xT6NCtGX7"
   },
   "source": [
    "### Create Sample Contingency Table and Initialize the GenericCheckerboardCopula"
   ]
  },
  {
   "cell_type": "markdown",
   "metadata": {},
   "source": [
    "The `GenericCheckerboardCopula` object can be initialized with a contingency table represented as a NumPy array. For a 2D contingency table:\n",
    "\n",
    "- `axis=0`: First variable ($X_1$) with 5 categories\n",
    "- `axis=1`: Second variable ($X_2$) with 3 categories\n",
    "\n",
    "The axis indexing follows NumPy's convention, starting from the outermost dimension (0). As described in Joe, Liu & Manuguerra (2021), the variables are ordered such that:\n",
    "\n",
    "- $X_1$ corresponds to (rows)\n",
    "- $X_2$ corresponds to (columns)\n",
    "\n",
    "This ordering is important for calculating measures of regression association between two variables. And, later on in this `.ipynb`, you can see how we can conveniently mention the 1-indexed variable numbers to perform association measure calculation, regression, and prediction."
   ]
  },
  {
   "cell_type": "code",
   "execution_count": 3,
   "metadata": {
    "colab": {
     "base_uri": "https://localhost:8080/"
    },
    "id": "01yuLPR8tRy3",
    "outputId": "e90fd3a8-f27f-4787-e680-e2df60456c5c"
   },
   "outputs": [
    {
     "name": "stdout",
     "output_type": "stream",
     "text": [
      "Shape of the inferred joint probability matrix P: (5, 3)\n",
      "Probability matrix P:\n",
      "[[0.    0.    0.25 ]\n",
      " [0.    0.125 0.   ]\n",
      " [0.25  0.    0.   ]\n",
      " [0.    0.125 0.   ]\n",
      " [0.    0.    0.25 ]]\n"
     ]
    }
   ],
   "source": [
    "contingency_table = np.array([\n",
    "    [0, 0, 20],\n",
    "    [0, 10, 0],\n",
    "    [20, 0, 0],\n",
    "    [0, 10, 0],\n",
    "    [0, 0, 20]\n",
    "])\n",
    "copula = GenericCheckerboardCopula.from_contingency_table(contingency_table)\n",
    "print(f\"Shape of the inferred joint probability matrix P: {copula.P.shape}\")\n",
    "print(f\"Probability matrix P:\\n{copula.P}\")"
   ]
  },
  {
   "cell_type": "markdown",
   "metadata": {},
   "source": [
    "### Calculating the Checkerboard Copula Scores and their Variances"
   ]
  },
  {
   "cell_type": "code",
   "execution_count": 4,
   "metadata": {},
   "outputs": [
    {
     "name": "stdout",
     "output_type": "stream",
     "text": [
      "Checkerboard Copula Scores for X1:\n",
      "[np.float64(0.125), np.float64(0.3125), np.float64(0.5), np.float64(0.6875), np.float64(0.875)]\n",
      "\n",
      "Checkerboard Copula Scores for X2:\n",
      "[np.float64(0.125), np.float64(0.375), np.float64(0.75)]\n",
      "\n",
      "Variance of Checkerboard Copula Scores for X1: 0.0791015625\n",
      "Variance of Checkerboard Copula Scores for X2: 0.0703125\n"
     ]
    }
   ],
   "source": [
    "# Calculate and display scores for both axes\n",
    "scores_X1 = copula.calculate_scores(1)\n",
    "scores_X2 = copula.calculate_scores(2)\n",
    "\n",
    "print(\"Checkerboard Copula Scores for X1:\")\n",
    "print(scores_X1)\n",
    "# Expected: [0.125, 0.3125, 0.5, 0.6875, 0.875]\n",
    "\n",
    "print(\"\\nCheckerboard Copula Scores for X2:\")\n",
    "print(scores_X2)\n",
    "# Expected: [0.125, 0.375, 0.75]\n",
    "\n",
    "# Calculate and display variance of scores\n",
    "variance_S_X1 = copula.calculate_variance_S(1)\n",
    "variance_S_X2 = copula.calculate_variance_S(2)\n",
    "\n",
    "print(\"\\nVariance of Checkerboard Copula Scores for X1:\", variance_S_X1)\n",
    "# Expected: 81/1024 = 0.0791015625\n",
    "print(\"Variance of Checkerboard Copula Scores for X2:\", variance_S_X2)\n",
    "# Expected: 9/128 = 0.0703125 "
   ]
  },
  {
   "cell_type": "markdown",
   "metadata": {},
   "source": [
    "### Category Prediction Using Checkerboard Copula Regression (CCR)\n",
    "\n",
    "After measuring regression associations with CCRAM, we can use the Checkerboard Copula Regression (CCR) for predicting the category of the response variable. The `get_category_predictions_multi()` method:\n",
    "\n",
    "- Predicts the categories of response variable (to be passed in as `response` input argument) given predictor values (to be listed in `predictors` input argument)\n",
    "- Returns predictions in an easy-to-read DataFrame format\n",
    "- Supports custom axis labels for better interpretation (Optional)"
   ]
  },
  {
   "cell_type": "code",
   "execution_count": 5,
   "metadata": {
    "colab": {
     "base_uri": "https://localhost:8080/"
    },
    "id": "wDI1ud2hv-d7",
    "outputId": "6bab13ec-37d6-4268-f038-59890b9eb332"
   },
   "outputs": [
    {
     "name": "stdout",
     "output_type": "stream",
     "text": [
      "\n",
      "Predictions from X1 to X2:\n",
      "   X1 Category  Predicted X2 Category\n",
      "0            1                      3\n",
      "1            2                      2\n",
      "2            3                      1\n",
      "3            4                      2\n",
      "4            5                      3\n",
      "\n",
      "Predictions from Education Level to Income Bracket:\n",
      "   Education Level Category  Predicted Income Bracket Category\n",
      "0                         1                                  3\n",
      "1                         2                                  3\n",
      "2                         3                                  3\n"
     ]
    }
   ],
   "source": [
    "predictions_X1_to_X2 = copula.get_category_predictions_multi(predictors=[1], response=2)\n",
    "print(\"\\nPredictions from X1 to X2:\")\n",
    "print(predictions_X1_to_X2)\n",
    "\n",
    "# Example: Showcasing the use of custom axis names for the output\n",
    "axis_to_name_dict = {1: \"Income Bracket\", 2: \"Education Level\"}\n",
    "predictions_Education_to_Income = copula.get_category_predictions_multi(predictors=[2], response=1, axis_names=axis_to_name_dict)\n",
    "print(\"\\nPredictions from Education Level to Income Bracket:\")\n",
    "print(predictions_Education_to_Income)"
   ]
  },
  {
   "cell_type": "markdown",
   "metadata": {
    "id": "W3a_y_pJt5te"
   },
   "source": [
    "### Calculating CCRAM & SCCRAM"
   ]
  },
  {
   "cell_type": "markdown",
   "metadata": {},
   "source": [
    "The CCRAM (Checkerboard Copula Regression Association Measure) allows us to quantify the regression relationship between categorical variables. In our example:\n",
    "\n",
    "- Variables are 1-indexed: $X_1$ (rows) and $X_2$ (columns)\n",
    "- X1 to X2 ($X_1 \\rightarrow X_2$) measures how much X1 (to be listed in `predictors` input argument) explains the variation in X2 (to be passed in as `response` input argument) \n",
    "- Scaled version (SCCRAM) normalizes the CCRAM for properly assessing the magnitude of regression association  by taking into account the upperbound of the CCRAM. "
   ]
  },
  {
   "cell_type": "code",
   "execution_count": 6,
   "metadata": {
    "colab": {
     "base_uri": "https://localhost:8080/"
    },
    "id": "c_sywsi-uEsR",
    "outputId": "5c14de61-672e-40b9-d888-4b54e7604f11"
   },
   "outputs": [
    {
     "name": "stdout",
     "output_type": "stream",
     "text": [
      "CCRAM X1 to X2: 0.8438\n",
      "CCRAM X2 to X1: 0.0000\n",
      "SCCRAM X1 to X2: 1.0000\n",
      "SCCRAM X2 to X1: 0.0000\n"
     ]
    }
   ],
   "source": [
    "ccram_X1_to_X2 = copula.calculate_CCRAM(predictors=[1], response=2)\n",
    "ccram_X2_to_X1 = copula.calculate_CCRAM(predictors=[2], response=1)\n",
    "print(f\"CCRAM X1 to X2: {ccram_X1_to_X2:.4f}\")\n",
    "print(f\"CCRAM X2 to X1: {ccram_X2_to_X1:.4f}\")\n",
    "\n",
    "sccram_X1_to_X2 = copula.calculate_CCRAM(predictors=[1], response=2, scaled=True)\n",
    "sccram_X2_to_X1 = copula.calculate_CCRAM(predictors=[2], response=1, scaled=True)\n",
    "print(f\"SCCRAM X1 to X2: {sccram_X1_to_X2:.4f}\")\n",
    "print(f\"SCCRAM X2 to X1: {sccram_X2_to_X1:.4f}\")"
   ]
  },
  {
   "cell_type": "markdown",
   "metadata": {},
   "source": [
    "# 4-Dimensional Case (Real Data Analysis)"
   ]
  },
  {
   "cell_type": "markdown",
   "metadata": {},
   "source": [
    "### Create Sample Data in Cases Form and Initialize the GenericCheckerboardCopula"
   ]
  },
  {
   "cell_type": "markdown",
   "metadata": {},
   "source": [
    "The `GenericCheckerboardCopula` can be initialized using categorical data with multiple variables. Let's explain this with a concrete example:\n",
    "\n",
    "Consider a dataset with 4 categorical variables:\n",
    "- Length of Previous Attack ($X_1$): 2 categories (Short, Long)\n",
    "- Pain Change ($X_2$): 3 categories (Worse, Same, Better)\n",
    "- Lordosis ($X_3$): 2 categories (absent/decreasing, present/increasing)\n",
    "- Back Pain ($X_4$): 6 categories (Worse (W), Same (S), Slight Improvement (SI), Moderate Improvement (MODI), Marked Improvement (MARI), Complete Relief (CR))\n",
    "\n",
    "In the data structure:\n",
    "- Each row represents one observation\n",
    "- Each column represents one categorical variable\n",
    "- The data is stored as a NumPy array of categorical values starting from 1 to (number of categories)\n",
    "\n",
    "When creating the copula:\n",
    "- Variables are numbered from $X_1$ to $X_4$ (in order of presentation in the input data)."
   ]
  },
  {
   "cell_type": "code",
   "execution_count": 7,
   "metadata": {},
   "outputs": [
    {
     "name": "stdout",
     "output_type": "stream",
     "text": [
      "Shape of the inferred joint probability matrix P: (2, 3, 2, 6)\n",
      "Probability matrix P:\n",
      "[[[[0.         0.         0.         0.         0.01980198 0.01980198]\n",
      "   [0.         0.         0.00990099 0.00990099 0.02970297 0.        ]]\n",
      "\n",
      "  [[0.         0.01980198 0.02970297 0.         0.05940594 0.03960396]\n",
      "   [0.         0.00990099 0.         0.01980198 0.         0.00990099]]\n",
      "\n",
      "  [[0.         0.00990099 0.         0.         0.01980198 0.03960396]\n",
      "   [0.         0.         0.         0.00990099 0.02970297 0.        ]]]\n",
      "\n",
      "\n",
      " [[[0.01980198 0.01980198 0.00990099 0.04950495 0.01980198 0.        ]\n",
      "   [0.01980198 0.         0.01980198 0.02970297 0.         0.        ]]\n",
      "\n",
      "  [[0.         0.02970297 0.03960396 0.04950495 0.05940594 0.01980198]\n",
      "   [0.00990099 0.03960396 0.03960396 0.02970297 0.         0.00990099]]\n",
      "\n",
      "  [[0.         0.         0.02970297 0.         0.00990099 0.01980198]\n",
      "   [0.         0.00990099 0.         0.         0.02970297 0.        ]]]]\n",
      "\n",
      "Marginal pdf for X1: [0.38613861 0.61386139]\n",
      "Marginal pdf for X2: [0.27722772 0.51485149 0.20792079]\n",
      "Marginal pdf for X3: [0.63366337 0.36633663]\n",
      "Marginal pdf for X4: [0.04950495 0.13861386 0.17821782 0.1980198  0.27722772 0.15841584]\n",
      "Marginal cdf for X1: [0.         0.38613861 1.        ]\n",
      "Marginal cdf for X2: [0.         0.27722772 0.79207921 1.        ]\n",
      "Marginal cdf for X3: [0.         0.63366337 1.        ]\n",
      "Marginal cdf for X4: [0.         0.04950495 0.18811881 0.36633663 0.56435644 0.84158416\n",
      " 1.        ]\n"
     ]
    }
   ],
   "source": [
    "real_cases_data = np.array([\n",
    "    # RDA Row 1\n",
    "    [1,3,1,2],[1,3,1,5],[1,3,1,5],\n",
    "    [1,3,1,6],[1,3,1,6],[1,3,1,6],[1,3,1,6],\n",
    "    # RDA Row 2\n",
    "    [1,3,2,4],[1,3,2,5],[1,3,2,5],[1,3,2,5],\n",
    "    # RDA Row 3\n",
    "    [1,2,1,2],[1,2,1,2],[1,2,1,3],[1,2,1,3],[1,2,1,3],\n",
    "    [1,2,1,5],[1,2,1,5],[1,2,1,5],[1,2,1,5],[1,2,1,5],[1,2,1,5],\n",
    "    [1,2,1,6],[1,2,1,6],[1,2,1,6],[1,2,1,6],\n",
    "    # RDA Row 4\n",
    "    [1,2,2,2],[1,2,2,4],[1,2,2,4],[1,2,2,6],\n",
    "    # RDA Row 5\n",
    "    [1,1,1,5],[1,1,1,5],[1,1,1,6],[1,1,1,6],\n",
    "    # RDA Row 6\n",
    "    [1,1,2,3],[1,1,2,4],[1,1,2,5],[1,1,2,5],[1,1,2,5],\n",
    "    # RDA Row 7\n",
    "    [2,3,1,3],[2,3,1,3],[2,3,1,3],[2,3,1,5],[2,3,1,6],[2,3,1,6],\n",
    "    # RDA Row 8\n",
    "    [2,3,2,2],[2,3,2,5],[2,3,2,5],[2,3,2,5],\n",
    "    # RDA Row 9\n",
    "    [2,2,1,2],[2,2,1,2],[2,2,1,2],[2,2,1,3],[2,2,1,3],[2,2,1,3],[2,2,1,3],\n",
    "    [2,2,1,4],[2,2,1,4],[2,2,1,4],[2,2,1,4],[2,2,1,4],\n",
    "    [2,2,1,5],[2,2,1,5],[2,2,1,5],[2,2,1,5],[2,2,1,5],[2,2,1,5],\n",
    "    [2,2,1,6],[2,2,1,6],\n",
    "    # RDA Row 10\n",
    "    [2,2,2,1],[2,2,2,2],[2,2,2,2],[2,2,2,2],[2,2,2,2],\n",
    "    [2,2,2,3],[2,2,2,3],[2,2,2,3],[2,2,2,3],\n",
    "    [2,2,2,4],[2,2,2,4],[2,2,2,4],[2,2,2,6],\n",
    "    # RDA Row 11\n",
    "    [2,1,1,1],[2,1,1,1],[2,1,1,2],[2,1,1,2],[2,1,1,3],\n",
    "    [2,1,1,4],[2,1,1,4],[2,1,1,4],[2,1,1,4],[2,1,1,4],\n",
    "    [2,1,1,5],[2,1,1,5],\n",
    "    # RDA Row 12\n",
    "    [2,1,2,1],[2,1,2,1],[2,1,2,3],[2,1,2,3],\n",
    "    [2,1,2,4],[2,1,2,4],[2,1,2,4]\n",
    "])\n",
    "\n",
    "rda_copula = GenericCheckerboardCopula.from_cases(cases=real_cases_data, shape=(2,3,2,6))\n",
    "print(f\"Shape of the inferred joint probability matrix P: {rda_copula.P.shape}\")\n",
    "print(f\"Probability matrix P:\\n{rda_copula.P}\\n\")\n",
    "\n",
    "for idx, marginal_pdf in rda_copula.marginal_pdfs.items():\n",
    "    print(f\"Marginal pdf for X{idx+1}: {marginal_pdf}\")\n",
    "\n",
    "for idx, marginal_cdf in rda_copula.marginal_cdfs.items():\n",
    "    print(f\"Marginal cdf for X{idx+1}: {marginal_cdf}\")"
   ]
  },
  {
   "cell_type": "markdown",
   "metadata": {},
   "source": [
    "### Calculating Checkerboard Copula Scores and their Variances"
   ]
  },
  {
   "cell_type": "code",
   "execution_count": 8,
   "metadata": {},
   "outputs": [
    {
     "name": "stdout",
     "output_type": "stream",
     "text": [
      "Checkerboard Copula Scores for X1:\n",
      "[np.float64(0.19306930693069307), np.float64(0.693069306930693)]\n",
      "\n",
      "Checkerboard Copula Scores for X2:\n",
      "[np.float64(0.13861386138613863), np.float64(0.5346534653465347), np.float64(0.8960396039603961)]\n",
      "\n",
      "Checkerboard Copula Scores for X3:\n",
      "[np.float64(0.3168316831683168), np.float64(0.8168316831683167)]\n",
      "\n",
      "Checkerboard Copula Scores for X4:\n",
      "[np.float64(0.024752475247524754), np.float64(0.1188118811881188), np.float64(0.27722772277227725), np.float64(0.4653465346534653), np.float64(0.7029702970297029), np.float64(0.9207920792079207)]\n",
      "\n",
      "Variance of Checkerboard Copula scores for X1: 0.059258896186648376\n",
      "\n",
      "Variance of Checkerboard Copula scores for X2: 0.0694360191827437\n",
      "\n",
      "Variance of Checkerboard Copula scores for X3: 0.0580335261248897\n",
      "\n",
      "Variance of Checkerboard Copula scores for X4: 0.07987568681385342\n"
     ]
    }
   ],
   "source": [
    "# Calculate and display scores for both axes\n",
    "rda_scores_X1 = rda_copula.calculate_scores(1)\n",
    "rda_scores_X2 = rda_copula.calculate_scores(2)\n",
    "rda_scores_X3 = rda_copula.calculate_scores(3)\n",
    "rda_scores_X4 = rda_copula.calculate_scores(4)\n",
    "\n",
    "print(\"Checkerboard Copula Scores for X1:\")\n",
    "print(rda_scores_X1)\n",
    "print(\"\\nCheckerboard Copula Scores for X2:\")\n",
    "print(rda_scores_X2)\n",
    "print(\"\\nCheckerboard Copula Scores for X3:\")\n",
    "print(rda_scores_X3)\n",
    "print(\"\\nCheckerboard Copula Scores for X4:\")\n",
    "print(rda_scores_X4)\n",
    "\n",
    "# Calculate and display variance of scores\n",
    "rda_variance_S_X1 = rda_copula.calculate_variance_S(1)\n",
    "rda_variance_S_X2 = rda_copula.calculate_variance_S(2)\n",
    "rda_variance_S_X3 = rda_copula.calculate_variance_S(3)\n",
    "rda_variance_S_X4 = rda_copula.calculate_variance_S(4)\n",
    "\n",
    "print(\"\\nVariance of Checkerboard Copula scores for X1:\", rda_variance_S_X1)\n",
    "print(\"\\nVariance of Checkerboard Copula scores for X2:\", rda_variance_S_X2)\n",
    "print(\"\\nVariance of Checkerboard Copula scores for X3:\", rda_variance_S_X3)\n",
    "print(\"\\nVariance of Checkerboard Copula scores for X4:\", rda_variance_S_X4)\n",
    "# Expected 12 * (variance of Checkerboard Copula scores for X4): 0.07987568681385342*12 = 0.95850824176"
   ]
  },
  {
   "cell_type": "markdown",
   "metadata": {},
   "source": [
    "### Category Prediction Using Checkerboard Copula Regression (CCR)\n",
    "\n",
    "After measuring regression associations with CCRAM, we can use the Checkerboard Copula Regression (CCR) for predicting the category of the response variable. The `get_category_predictions_multi()` method:\n",
    "\n",
    "- Predicts the categories of response variable (to be passed in as `response` input argument) given predictor values (to be listed in `predictors` input argument)\n",
    "- Returns predictions in an easy-to-read DataFrame format\n",
    "- Supports custom axis labels for better interpretation (Optional)"
   ]
  },
  {
   "cell_type": "code",
   "execution_count": 9,
   "metadata": {},
   "outputs": [
    {
     "name": "stdout",
     "output_type": "stream",
     "text": [
      "\n",
      "Predictions from X1, X2, X3 to Y = X4:\n",
      "    X1 Category  X2 Category  X3 Category  Predicted X4 Category\n",
      "0             1            1            1                      5\n",
      "1             1            1            2                      5\n",
      "2             1            2            1                      5\n",
      "3             1            2            2                      4\n",
      "4             1            3            1                      5\n",
      "5             1            3            2                      5\n",
      "6             2            1            1                      3\n",
      "7             2            1            2                      3\n",
      "8             2            2            1                      4\n",
      "9             2            2            2                      3\n",
      "10            2            3            1                      4\n",
      "11            2            3            2                      4\n",
      "\n",
      "Predictions from Length of Previous Attack, Pain Change, Lordosis to Y = Back Pain:\n",
      "    Length of Previous Attack Category  Pain Change Category  \\\n",
      "0                                    1                     1   \n",
      "1                                    1                     1   \n",
      "2                                    1                     2   \n",
      "3                                    1                     2   \n",
      "4                                    1                     3   \n",
      "5                                    1                     3   \n",
      "6                                    2                     1   \n",
      "7                                    2                     1   \n",
      "8                                    2                     2   \n",
      "9                                    2                     2   \n",
      "10                                   2                     3   \n",
      "11                                   2                     3   \n",
      "\n",
      "    Lordosis Category  Predicted Back Pain Category  \n",
      "0                   1                             5  \n",
      "1                   2                             5  \n",
      "2                   1                             5  \n",
      "3                   2                             4  \n",
      "4                   1                             5  \n",
      "5                   2                             5  \n",
      "6                   1                             3  \n",
      "7                   2                             3  \n",
      "8                   1                             4  \n",
      "9                   2                             3  \n",
      "10                  1                             4  \n",
      "11                  2                             4  \n"
     ]
    }
   ],
   "source": [
    "rda_predictions_X1_X2_X3_to_X4 = rda_copula.get_category_predictions_multi(predictors=[1, 2, 3], response=4)\n",
    "print(\"\\nPredictions from X1, X2, X3 to Y = X4:\")\n",
    "print(rda_predictions_X1_X2_X3_to_X4)\n",
    "\n",
    "rda_axis_to_name_dict = {1: \"Length of Previous Attack\", 2: \"Pain Change\", 3: \"Lordosis\", 4: \"Back Pain\"}\n",
    "rda_predictions_X1_X2_X3_to_X4_named = rda_copula.get_category_predictions_multi(predictors=[1, 2, 3], response=4, axis_names=rda_axis_to_name_dict)\n",
    "print(\"\\nPredictions from Length of Previous Attack, Pain Change, Lordosis to Y = Back Pain:\")\n",
    "print(rda_predictions_X1_X2_X3_to_X4_named)"
   ]
  },
  {
   "cell_type": "markdown",
   "metadata": {},
   "source": [
    "### Calculating CCRAM & SCCRAM"
   ]
  },
  {
   "cell_type": "markdown",
   "metadata": {},
   "source": [
    "The CCRAM (Checkerboard Copula Regression Association Measure) allows us to quantify the regression relationship between categorical variables. In our example:\n",
    "\n",
    "- Variables are 1-indexed: (by default) $X_1$, $X_2$, $X_3$, $X_4$.\n",
    "- (X1, X2, X3) to X4 ($(X_1, X_2, X_3) \\rightarrow X_4$) measures how much (X1, X2, X3) (to be listed in `predictors` input argument) explain the variation in X4 (to be passed in as `response` input argument) \n",
    "- Scaled version (SCCRAM) normalizes the CCRAM for properly assessing the magnitude of regression association  by taking into account the upperbound of the CCRAM. "
   ]
  },
  {
   "cell_type": "code",
   "execution_count": 10,
   "metadata": {},
   "outputs": [
    {
     "name": "stdout",
     "output_type": "stream",
     "text": [
      "CCRAM from (X1, X2, X3) to X4: 0.2604\n",
      "SCCRAM from (X1, X2, X3) to X4: 0.2716\n"
     ]
    }
   ],
   "source": [
    "rda_ccram_X1_X2_X3_to_X4 = rda_copula.calculate_CCRAM(predictors=[1, 2, 3], response=4)\n",
    "print(f\"CCRAM from (X1, X2, X3) to X4: {rda_ccram_X1_X2_X3_to_X4:.4f}\")\n",
    "\n",
    "rda_sccram_X1_X2_X3_to_X4 = rda_copula.calculate_CCRAM(predictors=[1, 2, 3], response=4, scaled=True)\n",
    "print(f\"SCCRAM from (X1, X2, X3) to X4: {rda_sccram_X1_X2_X3_to_X4:.4f}\")"
   ]
  }
 ],
 "metadata": {
  "colab": {
   "provenance": []
  },
  "kernelspec": {
   "display_name": "discopula",
   "language": "python",
   "name": "python3"
  },
  "language_info": {
   "codemirror_mode": {
    "name": "ipython",
    "version": 3
   },
   "file_extension": ".py",
   "mimetype": "text/x-python",
   "name": "python",
   "nbconvert_exporter": "python",
   "pygments_lexer": "ipython3",
   "version": "3.13.0"
  }
 },
 "nbformat": 4,
 "nbformat_minor": 0
}
